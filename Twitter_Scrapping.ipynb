{
  "nbformat": 4,
  "nbformat_minor": 0,
  "metadata": {
    "colab": {
      "provenance": []
    },
    "kernelspec": {
      "name": "python3",
      "display_name": "Python 3"
    },
    "language_info": {
      "name": "python"
    }
  },
  "cells": [
    {
      "cell_type": "markdown",
      "source": [
        "https://colab.research.google.com/github/kaushalbundel/blog/blob/master/_notebooks/2020-12-03-Twitter_Data_Scrapping.ipynb#scrollTo=UzLurObPGqvd"
      ],
      "metadata": {
        "id": "l-bfxy1PIdYl"
      }
    },
    {
      "cell_type": "code",
      "execution_count": null,
      "metadata": {
        "id": "A8NUy0Q1GfhN"
      },
      "outputs": [],
      "source": [
        "#collapse_show\n",
        "#importing libraries\n",
        "import pandas as pd\n",
        "import tweepy\n",
        "import time\n",
        "import warnings\n",
        "warnings.filterwarnings('ignore')"
      ]
    },
    {
      "cell_type": "markdown",
      "source": [
        "To access the Twitter API, we will need 4 things from the your Twitter App page. These keys are located in your Twitter app settings in the Keys and Access Tokens tab:\n",
        "\n",
        "- consumer key\n",
        "- consumer seceret key\n",
        "- access token key\n",
        "- access token secret key\n",
        "\n",
        "[Detailed info for getting keys](https://www.slickremix.com/docs/how-to-get-api-keys-and-tokens-for-twitter/)"
      ],
      "metadata": {
        "id": "-i2niC_vG3H4"
      }
    },
    {
      "cell_type": "code",
      "source": [
        "#collapse_hide\n",
        "#for privacy purposes, these keys are encrypted\n",
        "consumer_key=\"XXXXXXXXXXXXXXXXXXX\"\n",
        "consumer_secret=\"XXXXXXXXXXXXXXXXXXX\"\n",
        "access_token=\"XXXXXXXXXXXXXXXXXXX-XXXXXXXXXXXXXXXXXXX\"\n",
        "access_token_secret=\"XXXXXXXXXXXXXXXXXXX\""
      ],
      "metadata": {
        "id": "5t8TMKYIG6W8"
      },
      "execution_count": null,
      "outputs": []
    },
    {
      "cell_type": "markdown",
      "source": [
        "5Hz1xdqEkz0VfNsbpwVCr7OGO *API Key*\n",
        "\n",
        "rlfubsugCArgB0IXmYmTLAqh4KRmN6eE6CUSZPq6KbI3ph8xOv *API Key Secre*\n",
        "\n",
        "AAAAAAAAAAAAAAAAAAAAAAdWkwEAAAAAC8SXUJHl%2Br739Lf3aG660rXLLiM%3DAGKbB70gFjVJ5aAJHtU4AnTnxlobJ9rxU03wfNbcZKbUwBlH6e *Bearer Token*\n",
        "\n",
        "512987691-kKcvAtLq6G5vQmRqQ7IfxYTPlWBCJ03srcWWBxqQ *Access Token*\n",
        "\n",
        "UNvFg1eP1nNPPRVXg6lukbZxHtr7LGfj2Kb8JwP66KEai *Access Token Secret*"
      ],
      "metadata": {
        "id": "8NP98SGQHIxP"
      }
    },
    {
      "cell_type": "code",
      "source": [
        "#collapse_show\n",
        "#Accessing twitter API\n",
        "auth=tweepy.OAuthHandler(consumer_key, consumer_secret)\n",
        "auth.set_access_token=(access_token, access_token_secret)\n",
        "api= tweepy.API(auth, wait_on_rate_limit= True)"
      ],
      "metadata": {
        "id": "OmOgnKTaIVr9"
      },
      "execution_count": null,
      "outputs": []
    },
    {
      "cell_type": "code",
      "source": [
        "#collapse_show\n",
        "pd.set_option('display.max_colwidth', -1)"
      ],
      "metadata": {
        "id": "drsLqERBIZE1"
      },
      "execution_count": null,
      "outputs": []
    },
    {
      "cell_type": "code",
      "source": [
        "#collapse_show\n",
        "# Doing a function implementation of the tweets\n",
        "# In this case if the tweet is retweeted we wont get full text\n",
        "def get_tweets(username, count):\n",
        "    try:\n",
        "        #creating query methods using parameters\n",
        "        tweets= tweepy.Cursor(api.user_timeline,id= username, tweet_mode=\"extended\").items(count)\n",
        "        tweet_list= [[tweet.created_at, tweet.id, tweet.full_text] for tweet in tweets]\n",
        "        #creating dataframe from tweets list\n",
        "        tweets_df=pd.DataFrame(tweet_list, columns=[\"Date\",\"Tweet_id\",\"Tweet_Text\"])\n",
        "    \n",
        "    except BaseException as e:\n",
        "        print('failed on_status', str(e))\n",
        "        time.sleep(3)\n",
        "    return tweets_df\n"
      ],
      "metadata": {
        "id": "rPyr6Q14ImzG"
      },
      "execution_count": null,
      "outputs": []
    },
    {
      "cell_type": "markdown",
      "source": [],
      "metadata": {
        "id": "6DnZdRePIvZw"
      }
    },
    {
      "cell_type": "code",
      "source": [
        "\n",
        "###CHANGE USERNAME HERE\n",
        "biden_df=get_tweets(\"@POTUS\",170)\n",
        "obama_df=get_tweets(\"@BarackObama\",170)\n",
        "elon_df=get_tweets(\"@elonmusk\",170)\n",
        "cristiano_df=get_tweets(\"@Cristiano\",170)\n",
        "beiber_df=get_tweets(\"@justinbieber\",170)\n",
        "gaga_df=get_tweets(\"@ladygaga\",170)\n",
        "youtube_df=get_tweets(\"@YouTube\",170)\n",
        "ellendg_df=get_tweets(\"@TheEllenShow\",170)\n",
        "kimk_df=get_tweets(\"@KimKardashian\",170)\n",
        "NASA_df=get_tweets(\"@NASA\",170)\n",
        "selenagomez_df=get_tweets(\"@selenagomez\",170)\n",
        "Twitter_df=get_tweets(\"@Twitter\",170)\n",
        "cnnbrk_df=get_tweets(\"@cnnbrk\",170)\n",
        "timberlake_df=get_tweets(\"@jtimberlake\",170)\n",
        "billgates_df=get_tweets(\"@BillGates\",170)\n",
        "\n",
        "#extracting the latest 10 twitters shared by Kunal behl\n",
        "###CHANGE USERNAME HERE\n",
        "neymar_df=get_tweets(\"@neymarjr\",170)\n",
        "bspears_df=get_tweets(\"@britneyspears\",170)\n",
        "nytimes_df=get_tweets(\"@nytimes\",170)\n",
        "demilovato_df=get_tweets(\"@ddlovato\",170)\n",
        "shakira_df=get_tweets(\"@shakira\",170)\n",
        "lebron_df=get_tweets(\"@KingJames\",170)\n",
        "jfallon_df=get_tweets(\"@jimmyfallon\",170)\n",
        "mileycyrus_df=get_tweets(\"@MileyCyrus\",170)\n",
        "jlo_df=get_tweets(\"@JLo\",170)\n",
        "brunomars_df=get_tweets(\"@BrunoMars\",170)\n",
        "oprah_df=get_tweets(\"@Oprah\",170)\n",
        "nial_df=get_tweets(\"@NiallOfficial\",170)\n",
        "kylieJenner_df=get_tweets(\"@KylieJenner\",170)\n",
        "drake_df=get_tweets(\"@Drake\",170)\n",
        "bbcworld_df=get_tweets(\"@BBCWorld\",170)\n"
      ],
      "metadata": {
        "id": "vjFJZ35hIpot"
      },
      "execution_count": null,
      "outputs": []
    },
    {
      "cell_type": "code",
      "source": [
        "final_df = pd.concat([biden_df, obama_df, elon_df, cristiano_df, beiber_df, gaga_df, youtube_df, ellendg_df, kimk_df, NASA_df, selenagomez_df, Twitter_df, cnnbrk_df, timberlake_df, billgates_df, neymar_df, bspears_df, nytimes_df, demilovato_df, shakira_df, lebron_df, jfallon_df, mileycyrus_df, jlo_df, brunomars_df, oprah_df, nial_df, kylieJenner_df, drake_df, bbcworld_df])\n",
        "print(final_df)"
      ],
      "metadata": {
        "id": "Eun_eclgM0Xx"
      },
      "execution_count": null,
      "outputs": []
    },
    {
      "cell_type": "code",
      "source": [
        "final_df.shape"
      ],
      "metadata": {
        "colab": {
          "base_uri": "https://localhost:8080/"
        },
        "id": "eiXsW2QgNBI4",
        "outputId": "380c9e71-280b-4bea-9b49-9408e0c250c4"
      },
      "execution_count": null,
      "outputs": [
        {
          "output_type": "execute_result",
          "data": {
            "text/plain": [
              "(4990, 3)"
            ]
          },
          "metadata": {},
          "execution_count": 22
        }
      ]
    },
    {
      "cell_type": "code",
      "source": [
        "final_df['Type']='Not a bot'\n",
        "final_df"
      ],
      "metadata": {
        "id": "x3W2BxceO-_5"
      },
      "execution_count": null,
      "outputs": []
    },
    {
      "cell_type": "code",
      "source": [
        "final_df.to_csv('file1.csv')"
      ],
      "metadata": {
        "id": "9c_ZfqSHPVh_"
      },
      "execution_count": null,
      "outputs": []
    }
  ]
}